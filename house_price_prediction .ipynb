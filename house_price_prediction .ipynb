{
 "cells": [
  {
   "cell_type": "code",
   "execution_count": 2,
   "id": "e5402dd9",
   "metadata": {},
   "outputs": [],
   "source": [
    "import numpy as np \n",
    "import pandas as pd \n",
    "from sklearn.preprocessing import StandardScaler\n",
    "from sklearn.preprocessing import LabelBinarizer\n",
    "from sklearn.model_selection import train_test_split\n",
    "from sklearn.preprocessing import OneHotEncoder\n",
    "from sklearn.linear_model import LinearRegression, SGDRegressor\n",
    "from sklearn.metrics import mean_absolute_percentage_error"
   ]
  },
  {
   "cell_type": "code",
   "execution_count": 3,
   "id": "3a4dc783",
   "metadata": {},
   "outputs": [],
   "source": [
    "def load_house_attributes(inputpath):\n",
    "    cols = ['bedrooms', 'bathrooms', 'area', 'zipcode', 'price']\n",
    "    df = pd.read_csv(inputpath, sep=' ', header=None, names=cols)\n",
    "    zipcodes = df['zipcode'].value_counts().keys().tolist()\n",
    "    counts = df['zipcode'].value_counts().tolist()\n",
    "    zipped_list = zip(zipcodes, counts)\n",
    "    for (zipcode, count) in zipped_list:\n",
    "        if count < 25:\n",
    "            idx = df[df['zipcode'] == zipcode].index\n",
    "            df.drop(idx, inplace=True)\n",
    "    return df\n"
   ]
  },
  {
   "cell_type": "code",
   "execution_count": 14,
   "id": "79be11f7",
   "metadata": {},
   "outputs": [
    {
     "data": {
      "text/html": [
       "<div>\n",
       "<style scoped>\n",
       "    .dataframe tbody tr th:only-of-type {\n",
       "        vertical-align: middle;\n",
       "    }\n",
       "\n",
       "    .dataframe tbody tr th {\n",
       "        vertical-align: top;\n",
       "    }\n",
       "\n",
       "    .dataframe thead th {\n",
       "        text-align: right;\n",
       "    }\n",
       "</style>\n",
       "<table border=\"1\" class=\"dataframe\">\n",
       "  <thead>\n",
       "    <tr style=\"text-align: right;\">\n",
       "      <th></th>\n",
       "      <th>bedrooms</th>\n",
       "      <th>bathrooms</th>\n",
       "      <th>area</th>\n",
       "      <th>zipcode</th>\n",
       "      <th>price</th>\n",
       "    </tr>\n",
       "  </thead>\n",
       "  <tbody>\n",
       "    <tr>\n",
       "      <th>30</th>\n",
       "      <td>5</td>\n",
       "      <td>3.0</td>\n",
       "      <td>2520</td>\n",
       "      <td>93446</td>\n",
       "      <td>789000</td>\n",
       "    </tr>\n",
       "    <tr>\n",
       "      <th>32</th>\n",
       "      <td>3</td>\n",
       "      <td>2.0</td>\n",
       "      <td>1802</td>\n",
       "      <td>93446</td>\n",
       "      <td>365000</td>\n",
       "    </tr>\n",
       "    <tr>\n",
       "      <th>39</th>\n",
       "      <td>3</td>\n",
       "      <td>3.0</td>\n",
       "      <td>2146</td>\n",
       "      <td>93446</td>\n",
       "      <td>455000</td>\n",
       "    </tr>\n",
       "    <tr>\n",
       "      <th>80</th>\n",
       "      <td>4</td>\n",
       "      <td>2.5</td>\n",
       "      <td>2464</td>\n",
       "      <td>91901</td>\n",
       "      <td>599000</td>\n",
       "    </tr>\n",
       "    <tr>\n",
       "      <th>81</th>\n",
       "      <td>2</td>\n",
       "      <td>2.0</td>\n",
       "      <td>1845</td>\n",
       "      <td>91901</td>\n",
       "      <td>529800</td>\n",
       "    </tr>\n",
       "    <tr>\n",
       "      <th>...</th>\n",
       "      <td>...</td>\n",
       "      <td>...</td>\n",
       "      <td>...</td>\n",
       "      <td>...</td>\n",
       "      <td>...</td>\n",
       "    </tr>\n",
       "    <tr>\n",
       "      <th>499</th>\n",
       "      <td>4</td>\n",
       "      <td>4.0</td>\n",
       "      <td>3000</td>\n",
       "      <td>93446</td>\n",
       "      <td>1495000</td>\n",
       "    </tr>\n",
       "    <tr>\n",
       "      <th>500</th>\n",
       "      <td>3</td>\n",
       "      <td>2.0</td>\n",
       "      <td>2330</td>\n",
       "      <td>93446</td>\n",
       "      <td>599900</td>\n",
       "    </tr>\n",
       "    <tr>\n",
       "      <th>501</th>\n",
       "      <td>3</td>\n",
       "      <td>2.5</td>\n",
       "      <td>1339</td>\n",
       "      <td>93446</td>\n",
       "      <td>344900</td>\n",
       "    </tr>\n",
       "    <tr>\n",
       "      <th>502</th>\n",
       "      <td>3</td>\n",
       "      <td>2.0</td>\n",
       "      <td>1472</td>\n",
       "      <td>93446</td>\n",
       "      <td>309995</td>\n",
       "    </tr>\n",
       "    <tr>\n",
       "      <th>503</th>\n",
       "      <td>4</td>\n",
       "      <td>4.0</td>\n",
       "      <td>2681</td>\n",
       "      <td>93446</td>\n",
       "      <td>572000</td>\n",
       "    </tr>\n",
       "  </tbody>\n",
       "</table>\n",
       "<p>362 rows × 5 columns</p>\n",
       "</div>"
      ],
      "text/plain": [
       "     bedrooms  bathrooms  area  zipcode    price\n",
       "30          5        3.0  2520    93446   789000\n",
       "32          3        2.0  1802    93446   365000\n",
       "39          3        3.0  2146    93446   455000\n",
       "80          4        2.5  2464    91901   599000\n",
       "81          2        2.0  1845    91901   529800\n",
       "..        ...        ...   ...      ...      ...\n",
       "499         4        4.0  3000    93446  1495000\n",
       "500         3        2.0  2330    93446   599900\n",
       "501         3        2.5  1339    93446   344900\n",
       "502         3        2.0  1472    93446   309995\n",
       "503         4        4.0  2681    93446   572000\n",
       "\n",
       "[362 rows x 5 columns]"
      ]
     },
     "execution_count": 14,
     "metadata": {},
     "output_type": "execute_result"
    }
   ],
   "source": [
    "df = load_house_attributes('HousesInfo.txt')\n",
    "df"
   ]
  },
  {
   "cell_type": "code",
   "execution_count": 15,
   "id": "d3a8b686",
   "metadata": {},
   "outputs": [
    {
     "data": {
      "text/html": [
       "<div>\n",
       "<style scoped>\n",
       "    .dataframe tbody tr th:only-of-type {\n",
       "        vertical-align: middle;\n",
       "    }\n",
       "\n",
       "    .dataframe tbody tr th {\n",
       "        vertical-align: top;\n",
       "    }\n",
       "\n",
       "    .dataframe thead th {\n",
       "        text-align: right;\n",
       "    }\n",
       "</style>\n",
       "<table border=\"1\" class=\"dataframe\">\n",
       "  <thead>\n",
       "    <tr style=\"text-align: right;\">\n",
       "      <th></th>\n",
       "      <th>bedrooms</th>\n",
       "      <th>bathrooms</th>\n",
       "      <th>area</th>\n",
       "      <th>zipcode</th>\n",
       "      <th>price</th>\n",
       "    </tr>\n",
       "  </thead>\n",
       "  <tbody>\n",
       "    <tr>\n",
       "      <th>351</th>\n",
       "      <td>2</td>\n",
       "      <td>2.0</td>\n",
       "      <td>1512</td>\n",
       "      <td>92276</td>\n",
       "      <td>98900</td>\n",
       "    </tr>\n",
       "    <tr>\n",
       "      <th>479</th>\n",
       "      <td>2</td>\n",
       "      <td>2.0</td>\n",
       "      <td>1190</td>\n",
       "      <td>93446</td>\n",
       "      <td>739900</td>\n",
       "    </tr>\n",
       "    <tr>\n",
       "      <th>498</th>\n",
       "      <td>3</td>\n",
       "      <td>2.5</td>\n",
       "      <td>1500</td>\n",
       "      <td>93446</td>\n",
       "      <td>319000</td>\n",
       "    </tr>\n",
       "    <tr>\n",
       "      <th>185</th>\n",
       "      <td>6</td>\n",
       "      <td>4.0</td>\n",
       "      <td>3492</td>\n",
       "      <td>94501</td>\n",
       "      <td>1495000</td>\n",
       "    </tr>\n",
       "    <tr>\n",
       "      <th>194</th>\n",
       "      <td>2</td>\n",
       "      <td>1.0</td>\n",
       "      <td>805</td>\n",
       "      <td>94501</td>\n",
       "      <td>625000</td>\n",
       "    </tr>\n",
       "    <tr>\n",
       "      <th>...</th>\n",
       "      <td>...</td>\n",
       "      <td>...</td>\n",
       "      <td>...</td>\n",
       "      <td>...</td>\n",
       "      <td>...</td>\n",
       "    </tr>\n",
       "    <tr>\n",
       "      <th>181</th>\n",
       "      <td>3</td>\n",
       "      <td>2.5</td>\n",
       "      <td>2185</td>\n",
       "      <td>94501</td>\n",
       "      <td>490000</td>\n",
       "    </tr>\n",
       "    <tr>\n",
       "      <th>228</th>\n",
       "      <td>5</td>\n",
       "      <td>5.0</td>\n",
       "      <td>3701</td>\n",
       "      <td>92880</td>\n",
       "      <td>579000</td>\n",
       "    </tr>\n",
       "    <tr>\n",
       "      <th>412</th>\n",
       "      <td>2</td>\n",
       "      <td>2.0</td>\n",
       "      <td>1344</td>\n",
       "      <td>92276</td>\n",
       "      <td>139000</td>\n",
       "    </tr>\n",
       "    <tr>\n",
       "      <th>490</th>\n",
       "      <td>3</td>\n",
       "      <td>2.0</td>\n",
       "      <td>2108</td>\n",
       "      <td>93446</td>\n",
       "      <td>439000</td>\n",
       "    </tr>\n",
       "    <tr>\n",
       "      <th>212</th>\n",
       "      <td>2</td>\n",
       "      <td>1.0</td>\n",
       "      <td>1134</td>\n",
       "      <td>94501</td>\n",
       "      <td>599000</td>\n",
       "    </tr>\n",
       "  </tbody>\n",
       "</table>\n",
       "<p>289 rows × 5 columns</p>\n",
       "</div>"
      ],
      "text/plain": [
       "     bedrooms  bathrooms  area  zipcode    price\n",
       "351         2        2.0  1512    92276    98900\n",
       "479         2        2.0  1190    93446   739900\n",
       "498         3        2.5  1500    93446   319000\n",
       "185         6        4.0  3492    94501  1495000\n",
       "194         2        1.0   805    94501   625000\n",
       "..        ...        ...   ...      ...      ...\n",
       "181         3        2.5  2185    94501   490000\n",
       "228         5        5.0  3701    92880   579000\n",
       "412         2        2.0  1344    92276   139000\n",
       "490         3        2.0  2108    93446   439000\n",
       "212         2        1.0  1134    94501   599000\n",
       "\n",
       "[289 rows x 5 columns]"
      ]
     },
     "execution_count": 15,
     "metadata": {},
     "output_type": "execute_result"
    }
   ],
   "source": [
    "train, test = train_test_split(df, test_size=0.2, random_state=42)\n",
    "train"
   ]
  },
  {
   "cell_type": "code",
   "execution_count": 16,
   "id": "a81905e4",
   "metadata": {},
   "outputs": [
    {
     "data": {
      "text/html": [
       "<div>\n",
       "<style scoped>\n",
       "    .dataframe tbody tr th:only-of-type {\n",
       "        vertical-align: middle;\n",
       "    }\n",
       "\n",
       "    .dataframe tbody tr th {\n",
       "        vertical-align: top;\n",
       "    }\n",
       "\n",
       "    .dataframe thead th {\n",
       "        text-align: right;\n",
       "    }\n",
       "</style>\n",
       "<table border=\"1\" class=\"dataframe\">\n",
       "  <thead>\n",
       "    <tr style=\"text-align: right;\">\n",
       "      <th></th>\n",
       "      <th>bedrooms</th>\n",
       "      <th>bathrooms</th>\n",
       "      <th>area</th>\n",
       "      <th>zipcode</th>\n",
       "      <th>price</th>\n",
       "    </tr>\n",
       "  </thead>\n",
       "  <tbody>\n",
       "    <tr>\n",
       "      <th>305</th>\n",
       "      <td>4</td>\n",
       "      <td>3.0</td>\n",
       "      <td>2570</td>\n",
       "      <td>92880</td>\n",
       "      <td>510000</td>\n",
       "    </tr>\n",
       "    <tr>\n",
       "      <th>110</th>\n",
       "      <td>4</td>\n",
       "      <td>3.0</td>\n",
       "      <td>3277</td>\n",
       "      <td>91901</td>\n",
       "      <td>669000</td>\n",
       "    </tr>\n",
       "    <tr>\n",
       "      <th>92</th>\n",
       "      <td>3</td>\n",
       "      <td>2.5</td>\n",
       "      <td>2836</td>\n",
       "      <td>91901</td>\n",
       "      <td>979000</td>\n",
       "    </tr>\n",
       "    <tr>\n",
       "      <th>464</th>\n",
       "      <td>3</td>\n",
       "      <td>3.0</td>\n",
       "      <td>2390</td>\n",
       "      <td>93446</td>\n",
       "      <td>769000</td>\n",
       "    </tr>\n",
       "    <tr>\n",
       "      <th>145</th>\n",
       "      <td>3</td>\n",
       "      <td>2.5</td>\n",
       "      <td>1655</td>\n",
       "      <td>92677</td>\n",
       "      <td>649900</td>\n",
       "    </tr>\n",
       "    <tr>\n",
       "      <th>...</th>\n",
       "      <td>...</td>\n",
       "      <td>...</td>\n",
       "      <td>...</td>\n",
       "      <td>...</td>\n",
       "      <td>...</td>\n",
       "    </tr>\n",
       "    <tr>\n",
       "      <th>439</th>\n",
       "      <td>3</td>\n",
       "      <td>2.0</td>\n",
       "      <td>1152</td>\n",
       "      <td>93510</td>\n",
       "      <td>425000</td>\n",
       "    </tr>\n",
       "    <tr>\n",
       "      <th>192</th>\n",
       "      <td>3</td>\n",
       "      <td>2.0</td>\n",
       "      <td>1490</td>\n",
       "      <td>94501</td>\n",
       "      <td>949000</td>\n",
       "    </tr>\n",
       "    <tr>\n",
       "      <th>204</th>\n",
       "      <td>2</td>\n",
       "      <td>1.0</td>\n",
       "      <td>1110</td>\n",
       "      <td>94501</td>\n",
       "      <td>649000</td>\n",
       "    </tr>\n",
       "    <tr>\n",
       "      <th>483</th>\n",
       "      <td>2</td>\n",
       "      <td>2.0</td>\n",
       "      <td>1088</td>\n",
       "      <td>93446</td>\n",
       "      <td>280000</td>\n",
       "    </tr>\n",
       "    <tr>\n",
       "      <th>445</th>\n",
       "      <td>3</td>\n",
       "      <td>3.0</td>\n",
       "      <td>2362</td>\n",
       "      <td>93510</td>\n",
       "      <td>541000</td>\n",
       "    </tr>\n",
       "  </tbody>\n",
       "</table>\n",
       "<p>73 rows × 5 columns</p>\n",
       "</div>"
      ],
      "text/plain": [
       "     bedrooms  bathrooms  area  zipcode   price\n",
       "305         4        3.0  2570    92880  510000\n",
       "110         4        3.0  3277    91901  669000\n",
       "92          3        2.5  2836    91901  979000\n",
       "464         3        3.0  2390    93446  769000\n",
       "145         3        2.5  1655    92677  649900\n",
       "..        ...        ...   ...      ...     ...\n",
       "439         3        2.0  1152    93510  425000\n",
       "192         3        2.0  1490    94501  949000\n",
       "204         2        1.0  1110    94501  649000\n",
       "483         2        2.0  1088    93446  280000\n",
       "445         3        3.0  2362    93510  541000\n",
       "\n",
       "[73 rows x 5 columns]"
      ]
     },
     "execution_count": 16,
     "metadata": {},
     "output_type": "execute_result"
    }
   ],
   "source": [
    "test"
   ]
  },
  {
   "cell_type": "code",
   "execution_count": 17,
   "id": "19d4f31e",
   "metadata": {},
   "outputs": [],
   "source": [
    "# normalizing continues features\n",
    "def preprocess_house_continues_attribute(train, test):\n",
    "    continues = ['bedrooms', 'bathrooms', 'area']\n",
    "    standarding = StandardScaler()\n",
    "    trainContinues = standarding.fit_transform(train[continues])\n",
    "    testContinues = standarding.fit_transform(test[continues])\n",
    "    return trainContinues, testContinues\n",
    "\n",
    "trainContinues,testContinues = preprocess_house_continues_attribute(train, test)\n"
   ]
  },
  {
   "cell_type": "code",
   "execution_count": 18,
   "id": "e197e61d",
   "metadata": {},
   "outputs": [
    {
     "name": "stdout",
     "output_type": "stream",
     "text": [
      "(73, 7)\n",
      "(289, 7)\n",
      "[[0. 1. 0. ... 0. 0. 0.]\n",
      " [0. 0. 0. ... 1. 0. 0.]\n",
      " [0. 0. 0. ... 1. 0. 0.]\n",
      " ...\n",
      " [0. 1. 0. ... 0. 0. 0.]\n",
      " [0. 0. 0. ... 1. 0. 0.]\n",
      " [0. 0. 0. ... 0. 0. 1.]]\n"
     ]
    }
   ],
   "source": [
    "encoder = OneHotEncoder(sparse=False)\n",
    "trainCategorical = encoder.fit_transform(np.array(train['zipcode']).reshape(-1, 1))\n",
    "testCategorical = encoder.fit_transform(np.array(test['zipcode']).reshape(-1, 1))\n",
    "print(testCategorical.shape)\n",
    "print(trainCategorical.shape)\n",
    "print(trainCategorical)"
   ]
  },
  {
   "cell_type": "code",
   "execution_count": 19,
   "id": "9b051e7f",
   "metadata": {},
   "outputs": [],
   "source": [
    "trainX = np.hstack([trainContinues, trainCategorical])\n",
    "testX = np.hstack([testContinues, testCategorical])"
   ]
  },
  {
   "cell_type": "code",
   "execution_count": 20,
   "id": "7c8cf50d",
   "metadata": {},
   "outputs": [
    {
     "name": "stdout",
     "output_type": "stream",
     "text": [
      "351      98900\n",
      "479     739900\n",
      "498     319000\n",
      "185    1495000\n",
      "194     625000\n",
      "        ...   \n",
      "181     490000\n",
      "228     579000\n",
      "412     139000\n",
      "490     439000\n",
      "212     599000\n",
      "Name: price, Length: 289, dtype: int64\n",
      "305    510000\n",
      "110    669000\n",
      "92     979000\n",
      "464    769000\n",
      "145    649900\n",
      "        ...  \n",
      "439    425000\n",
      "192    949000\n",
      "204    649000\n",
      "483    280000\n",
      "445    541000\n",
      "Name: price, Length: 73, dtype: int64\n"
     ]
    }
   ],
   "source": [
    "maxprice = train['price'].max()\n",
    "trainY = train['price']/maxprice\n",
    "testY= test['price']/maxprice\n",
    "print(train['price'])\n",
    "print(test['price']) "
   ]
  },
  {
   "cell_type": "code",
   "execution_count": 42,
   "id": "28dea1ed",
   "metadata": {},
   "outputs": [
    {
     "name": "stdout",
     "output_type": "stream",
     "text": [
      "[-0.00475205  0.01265794  0.04040491  0.01339453 -0.0337682   0.06434771\n",
      " -0.04517922  0.01486195  0.0122659   0.06346062]\n"
     ]
    }
   ],
   "source": [
    "# this is finding prameter by gradiant decent\n",
    "model = SGDRegressor(tol=0.000001)\n",
    "model.fit(trainX, trainY)\n",
    "print(model.coef_)"
   ]
  },
  {
   "cell_type": "code",
   "execution_count": 43,
   "id": "4dfc53b0",
   "metadata": {},
   "outputs": [
    {
     "name": "stdout",
     "output_type": "stream",
     "text": [
      "[INFO] mean: 32.98, std: 40.28\n"
     ]
    }
   ],
   "source": [
    "predicted = model.predict(testX)\n",
    "diff = predicted - testY\n",
    "precentdiff = (diff/testY)*100\n",
    "absprecentdiff = np.abs(precentdiff)\n",
    "mean = np.mean(absprecentdiff)\n",
    "std = np.std(absprecentdiff)\n",
    "print('[INFO] mean: {:.2f}, std: {:.2f}'.format(mean, std))"
   ]
  },
  {
   "cell_type": "code",
   "execution_count": 44,
   "id": "4a22ffa4",
   "metadata": {},
   "outputs": [
    {
     "data": {
      "text/plain": [
       "0.3298086164219486"
      ]
     },
     "execution_count": 44,
     "metadata": {},
     "output_type": "execute_result"
    }
   ],
   "source": [
    "mean_absolute_percentage_error(testY, predicted)"
   ]
  },
  {
   "cell_type": "code",
   "execution_count": 45,
   "id": "a8f9c439",
   "metadata": {},
   "outputs": [
    {
     "name": "stdout",
     "output_type": "stream",
     "text": [
      "[-0.00325816  0.0138258   0.03955316 -0.00216541 -0.04708977  0.0634664\n",
      " -0.06610923 -0.0002863  -0.00295073  0.05513504]\n"
     ]
    }
   ],
   "source": [
    "# this is finding prameter by formula\n",
    "model2 = LinearRegression()\n",
    "model2.fit(trainX, trainY)\n",
    "print(model2.coef_)"
   ]
  },
  {
   "cell_type": "code",
   "execution_count": 47,
   "id": "4b499857",
   "metadata": {},
   "outputs": [
    {
     "name": "stdout",
     "output_type": "stream",
     "text": [
      "[INFO] mean: 33.32, std: 41.75\n"
     ]
    }
   ],
   "source": [
    "predicted2 = model2.predict(testX)\n",
    "diff2 = predicted2 - testY\n",
    "precentdiff2 = (diff2/testY)*100\n",
    "absprecentdiff2 = np.abs(precentdiff2)\n",
    "mean2 = np.mean(absprecentdiff2)\n",
    "std2 = np.std(absprecentdiff2)\n",
    "print('[INFO] mean: {:.2f}, std: {:.2f}'.format(mean2, std2))"
   ]
  },
  {
   "cell_type": "code",
   "execution_count": 48,
   "id": "ecaaae53",
   "metadata": {},
   "outputs": [
    {
     "data": {
      "text/plain": [
       "0.33319318782376506"
      ]
     },
     "execution_count": 48,
     "metadata": {},
     "output_type": "execute_result"
    }
   ],
   "source": [
    "mean_absolute_percentage_error(testY, predicted2)"
   ]
  },
  {
   "cell_type": "code",
   "execution_count": null,
   "id": "5255b851",
   "metadata": {},
   "outputs": [],
   "source": []
  },
  {
   "cell_type": "code",
   "execution_count": null,
   "id": "05d03226",
   "metadata": {},
   "outputs": [],
   "source": []
  },
  {
   "cell_type": "code",
   "execution_count": null,
   "id": "e4ea0302",
   "metadata": {},
   "outputs": [],
   "source": []
  },
  {
   "cell_type": "code",
   "execution_count": null,
   "id": "204de122",
   "metadata": {},
   "outputs": [],
   "source": []
  },
  {
   "cell_type": "code",
   "execution_count": null,
   "id": "3e9abc30",
   "metadata": {},
   "outputs": [],
   "source": []
  },
  {
   "cell_type": "code",
   "execution_count": null,
   "id": "39a3cb02",
   "metadata": {},
   "outputs": [],
   "source": []
  },
  {
   "cell_type": "code",
   "execution_count": null,
   "id": "55c33777",
   "metadata": {},
   "outputs": [],
   "source": []
  }
 ],
 "metadata": {
  "kernelspec": {
   "display_name": "Python 3 (ipykernel)",
   "language": "python",
   "name": "python3"
  },
  "language_info": {
   "codemirror_mode": {
    "name": "ipython",
    "version": 3
   },
   "file_extension": ".py",
   "mimetype": "text/x-python",
   "name": "python",
   "nbconvert_exporter": "python",
   "pygments_lexer": "ipython3",
   "version": "3.10.9"
  },
  "vscode": {
   "interpreter": {
    "hash": "219e1be6d16a9534ed1cf604b41ae4cae8d72208bddb01e4cf31a2b7d8814392"
   }
  }
 },
 "nbformat": 4,
 "nbformat_minor": 5
}
